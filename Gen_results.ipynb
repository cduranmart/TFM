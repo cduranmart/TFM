{
 "cells": [
  {
   "cell_type": "markdown",
   "id": "057e18fb",
   "metadata": {},
   "source": [
    "# Generar fitxa de resultats per a cada imatge del conjut de test"
   ]
  },
  {
   "cell_type": "code",
   "execution_count": 2,
   "id": "28f5c438",
   "metadata": {
    "scrolled": true
   },
   "outputs": [],
   "source": [
    "import pandas as pd\n",
    "import matplotlib.pyplot as plt\n",
    "from PIL import Image\n",
    "from matplotlib import gridspec"
   ]
  },
  {
   "cell_type": "code",
   "execution_count": 13,
   "id": "e7340938",
   "metadata": {
    "scrolled": true
   },
   "outputs": [
    {
     "name": "stdout",
     "output_type": "stream",
     "text": [
      "Resultats/No_DR_predicted_No_OK_sorted.csv\n",
      "Resultats/No_DR_predicted_No_OK\n",
      "     Image Name Label  Probability\n",
      "0  test_231.jpg    DR    79.985565\n",
      "1  test_195.jpg    DR    77.479029\n",
      "2  test_188.jpg    DR    75.516129\n",
      "3  test_160.jpg    DR    74.336487\n",
      "4  test_129.jpg    DR    71.454346\n",
      "10 imatges\n"
     ]
    }
   ],
   "source": [
    "#Load file list\n",
    "label='No_DR'\n",
    "prediction='No_OK'\n",
    "image_list = 'Resultats/'+label+'_predicted_'+prediction+'_sorted.csv'\n",
    "Destination_folder= 'Resultats/'+label+'_predicted_'+prediction\n",
    "\n",
    "print(image_list)\n",
    "print(Destination_folder)\n",
    "# load csv file as dataframe\n",
    "df = pd.read_csv(image_list)\n",
    "\n",
    "#Show first rows\n",
    "print(df.head())\n",
    "print(f'{len(df)} imatges')"
   ]
  },
  {
   "cell_type": "code",
   "execution_count": null,
   "id": "f58ec497",
   "metadata": {
    "scrolled": false
   },
   "outputs": [],
   "source": [
    "#Generate list of paths to the images to be loaded\n",
    "\n",
    "for img in df['Image Name']:\n",
    "    \n",
    "    # Filter dataframe to obtain label and probability\n",
    "    fila = df[df['Image Name'] == img]\n",
    "    predicted = fila['Label'].iloc[0]\n",
    "    probability = fila['Probability'].iloc[0]\n",
    "    \n",
    "    img_original_path='Dataset/'+'test_original/'+label+'/'+img\n",
    "    img_preprocessed_path='Dataset/'+'test_preprocessed/'+label+'/'+img\n",
    "    img_gradcam_path='Dataset/'+'test_gradcam_for_presentation/'+label+'/'+img\n",
    "    img_1_map_path='Dataset/'+'test_1_map_for_presentation/'+label+'/'+img\n",
    "    img_pattern_path='Dataset/'+'test_patterns/'+label+'/'+img\n",
    "    img_tortuosity_path='Dataset/'+'test_tortuosity/'+label+'/'+img\n",
    "    img_12_maps_path='Dataset/'+'test_12_maps/'+label+'/'+img\n",
    "    \n",
    "       \n",
    "    img_original = Image.open(img_original_path)   \n",
    "    img_preprocessed = Image.open(img_preprocessed_path)\n",
    "    img_gradcam = Image.open(img_gradcam_path)\n",
    "    img_1_map = Image.open(img_1_map_path)\n",
    "    img_pattern = Image.open(img_pattern_path)\n",
    "    img_tortuosity = Image.open(img_tortuosity_path)    \n",
    "    img_12_maps = Image.open(img_12_maps_path)\n",
    "     \n",
    "    # Define figure\n",
    "    fig = plt.figure(figsize=(20, 32))\n",
    "    fig.suptitle(\n",
    "    (f'Image: {img}. '\n",
    "     f'True label: {label}, '\n",
    "     f'Predicted: {predicted}, '\n",
    "     f'Confidence level: {probability:.2f}%'),\n",
    "    fontsize=25, \n",
    "    ha='left', \n",
    "    x=0.01,\n",
    "    y=0.97)\n",
    "    \n",
    "\n",
    "    gs = gridspec.GridSpec(3, 3, height_ratios=[1, 1, 2])  # Definir proporciones para las filas\n",
    "\n",
    "    #First row of images\n",
    "    ax1 = plt.subplot(gs[0, 0])#, aspect='equal')\n",
    "    ax1.imshow(img_original)\n",
    "    ax1.set_title('Original image', fontsize=20)\n",
    "    ax1.axis('off')\n",
    "\n",
    "    ax2 = plt.subplot(gs[0, 1])#, aspect='equal')\n",
    "    ax2.imshow(img_preprocessed)\n",
    "    ax2.set_title('Image preprocessed for the model', fontsize=20)\n",
    "    ax2.axis('off')\n",
    "    \n",
    "     #Second row of images\n",
    "    ax3 = plt.subplot(gs[0, 2])\n",
    "    ax3.imshow(img_gradcam)\n",
    "    ax3.set_title('Grad-CAM (CNN)', fontsize=20)\n",
    "    ax3.axis('off')  \n",
    "\n",
    "    ax4 = plt.subplot(gs[1, 0])\n",
    "    ax4.imshow(img_pattern)\n",
    "    ax4.set_title('Skeletonized Vessel Pattern', fontsize=20)\n",
    "    ax4.axis('off')\n",
    "    \n",
    "    ax5 = plt.subplot(gs[1, 1])\n",
    "    ax5.imshow(img_tortuosity)\n",
    "    ax5.set_title('Tortuous vessels', fontsize=20)\n",
    "    ax5.axis('off')\n",
    "    \n",
    "    ax6 = plt.subplot(gs[1, 2], aspect='equal')\n",
    "    ax6.imshow(img_1_map)\n",
    "    ax6.set_title('Attention map all transformers blocks', fontsize=20)\n",
    "    ax6.axis('off')\n",
    " \n",
    "    # Subplot on the bottom covering all figure width\n",
    "    ax_bottom = plt.subplot(gs[2, :])  \n",
    "    ax_bottom.imshow(img_12_maps)\n",
    "    ax_bottom.axis('off')\n",
    "\n",
    "\n",
    "    plt.tight_layout(pad=2)  \n",
    "    fig.subplots_adjust(top=0.96) \n",
    "    #plt.show()\n",
    "\n",
    "    # Save figure on disk\n",
    "    save_path = Destination_folder+'/'+img  \n",
    "    fig.savefig(save_path, dpi=300, bbox_inches='tight')\n",
    "    plt.close(fig)\n",
    "\n",
    "    print(f\"Summary for {img} saved to {save_path}, Image {count} of {len(df)}\")\n"
   ]
  }
 ],
 "metadata": {
  "kernelspec": {
   "display_name": "Python 3 (ipykernel)",
   "language": "python",
   "name": "python3"
  },
  "language_info": {
   "codemirror_mode": {
    "name": "ipython",
    "version": 3
   },
   "file_extension": ".py",
   "mimetype": "text/x-python",
   "name": "python",
   "nbconvert_exporter": "python",
   "pygments_lexer": "ipython3",
   "version": "3.8.0"
  }
 },
 "nbformat": 4,
 "nbformat_minor": 5
}
