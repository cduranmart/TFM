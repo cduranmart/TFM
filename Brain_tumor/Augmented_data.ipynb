{
 "cells": [
  {
   "cell_type": "code",
   "execution_count": 2,
   "id": "60b21ae5",
   "metadata": {},
   "outputs": [],
   "source": [
    "import os\n",
    "import tensorflow as tf\n",
    "from tensorflow.keras.preprocessing.image import ImageDataGenerator, img_to_array, load_img, save_img\n",
    "import numpy as np"
   ]
  },
  {
   "cell_type": "code",
   "execution_count": 5,
   "id": "de8da438",
   "metadata": {},
   "outputs": [],
   "source": [
    "def data_augment(image):\n",
    "    p_spatial = tf.random.uniform([], 0, 1.0, dtype=tf.float32)\n",
    "    p_rotate = tf.random.uniform([], 0, 1.0, dtype=tf.float32)\n",
    "    p_pixel_1 = tf.random.uniform([], 0, 1.0, dtype=tf.float32)\n",
    "    p_pixel_2 = tf.random.uniform([], 0, 1.0, dtype=tf.float32)\n",
    "    p_pixel_3 = tf.random.uniform([], 0, 1.0, dtype=tf.float32)\n",
    "\n",
    "    # Flips\n",
    "    image = tf.image.random_flip_left_right(image)\n",
    "    image = tf.image.random_flip_up_down(image)\n",
    "\n",
    "    if p_spatial > 0.75:\n",
    "        image = tf.image.transpose(image)\n",
    "\n",
    "    # Rotates\n",
    "    if p_rotate > 0.75:\n",
    "        image = tf.image.rot90(image, k=3)  # rotate 270º\n",
    "    elif p_rotate > 0.5:\n",
    "        image = tf.image.rot90(image, k=2)  # rotate 180º\n",
    "    elif p_rotate > 0.25:\n",
    "        image = tf.image.rot90(image, k=1)  # rotate 90º\n",
    "\n",
    "    # Pixel-level transforms\n",
    "    if p_pixel_1 >= 0.4:\n",
    "        # Manual contrast adjustment\n",
    "        contrast_factor = 0.8\n",
    "        image = (image - 0.5) * contrast_factor + 0.5\n",
    "    if p_pixel_2 >= 0.4:\n",
    "        # Manual brightness adjustment\n",
    "        brightness_factor = 0.8\n",
    "        image = image * brightness_factor\n",
    "    if p_pixel_3 >= 0.4:\n",
    "        # Manual saturation adjustment\n",
    "        saturation_factor = 0.8\n",
    "        image = (image - 0.5) * saturation_factor + 0.5\n",
    "\n",
    "    return image"
   ]
  },
  {
   "cell_type": "code",
   "execution_count": 6,
   "id": "fb578d91",
   "metadata": {},
   "outputs": [],
   "source": [
    "# Initialize your data generator with the `data_augment` function\n",
    "datagen = ImageDataGenerator(\n",
    "    rescale=1./255,\n",
    "    preprocessing_function=data_augment\n",
    ")"
   ]
  },
  {
   "cell_type": "code",
   "execution_count": 7,
   "id": "08f52d61",
   "metadata": {},
   "outputs": [],
   "source": [
    "\n",
    "# Define the directories\n",
    "train_path = 'brain-tumor_dataset'\n",
    "save_path = 'brain-tumor_dataset_augmented'"
   ]
  },
  {
   "cell_type": "code",
   "execution_count": 8,
   "id": "e7e1ec9d",
   "metadata": {},
   "outputs": [],
   "source": [
    "\n",
    "# Categories or classes\n",
    "categories = ['clase_1', 'clase_2', 'clase_3']\n",
    "\n",
    "# Create the save_path if it doesn't exist\n",
    "os.makedirs(save_path, exist_ok=True)\n"
   ]
  },
  {
   "cell_type": "code",
   "execution_count": 9,
   "id": "14b16a8f",
   "metadata": {},
   "outputs": [
    {
     "name": "stdout",
     "output_type": "stream",
     "text": [
      "Augmentation complete. Images saved to: brain-tumor_dataset_augmented\n"
     ]
    }
   ],
   "source": [
    "#crear más imagenes\n",
    "num_augmented_images = 5  # The number of augmented images to generate per original image\n",
    "\n",
    "for category in categories:\n",
    "    category_save_path = os.path.join(save_path, category)\n",
    "    os.makedirs(category_save_path, exist_ok=True)\n",
    "    \n",
    "    image_files = os.listdir(os.path.join(train_path, category))\n",
    "    \n",
    "    for image_file in image_files:\n",
    "        img_path = os.path.join(train_path, category, image_file)\n",
    "        \n",
    "        # Load the image\n",
    "        image = load_img(img_path)\n",
    "        image = img_to_array(image)\n",
    "        image = np.expand_dims(image, axis=0)  # Add the batch dimension\n",
    "        \n",
    "        # Generate augmented images\n",
    "        aug_iter = datagen.flow(image, batch_size=1, save_to_dir=category_save_path, save_prefix='aug', save_format='jpeg')\n",
    "        \n",
    "        # Save the specified number of augmented images\n",
    "        for i in range(num_augmented_images):\n",
    "            aug_iter.next()\n",
    "print(\"Augmentation complete. Images saved to:\", save_path)"
   ]
  },
  {
   "cell_type": "code",
   "execution_count": null,
   "id": "7c7d05fa",
   "metadata": {},
   "outputs": [],
   "source": []
  }
 ],
 "metadata": {
  "kernelspec": {
   "display_name": "Python 3 (ipykernel)",
   "language": "python",
   "name": "python3"
  },
  "language_info": {
   "codemirror_mode": {
    "name": "ipython",
    "version": 3
   },
   "file_extension": ".py",
   "mimetype": "text/x-python",
   "name": "python",
   "nbconvert_exporter": "python",
   "pygments_lexer": "ipython3",
   "version": "3.8.0"
  }
 },
 "nbformat": 4,
 "nbformat_minor": 5
}
